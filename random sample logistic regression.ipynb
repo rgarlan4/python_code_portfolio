{
 "cells": [
  {
   "cell_type": "code",
   "execution_count": 2,
   "metadata": {},
   "outputs": [],
   "source": [
    "import pandas as pd\n",
    "import numpy as np\n",
    "from sklearn.model_selection import train_test_split\n",
    "from sklearn.linear_model import LogisticRegression\n",
    "from sklearn.metrics import classification_report\n",
    "import matplotlib.pyplot as plt\n",
    "import seaborn as sns"
   ]
  },
  {
   "cell_type": "code",
   "execution_count": 31,
   "metadata": {},
   "outputs": [
    {
     "name": "stdout",
     "output_type": "stream",
     "text": [
      "              precision    recall  f1-score   support\n",
      "\n",
      "           0       0.56      1.00      0.72       113\n",
      "           1       0.00      0.00      0.00        87\n",
      "\n",
      "    accuracy                           0.56       200\n",
      "   macro avg       0.28      0.50      0.36       200\n",
      "weighted avg       0.32      0.56      0.41       200\n",
      "\n"
     ]
    },
    {
     "name": "stderr",
     "output_type": "stream",
     "text": [
      "c:\\Users\\robert\\Documents\\GitHub\\python_code_portfolio\\.conda\\Lib\\site-packages\\sklearn\\metrics\\_classification.py:1509: UndefinedMetricWarning: Precision is ill-defined and being set to 0.0 in labels with no predicted samples. Use `zero_division` parameter to control this behavior.\n",
      "  _warn_prf(average, modifier, f\"{metric.capitalize()} is\", len(result))\n",
      "c:\\Users\\robert\\Documents\\GitHub\\python_code_portfolio\\.conda\\Lib\\site-packages\\sklearn\\metrics\\_classification.py:1509: UndefinedMetricWarning: Precision is ill-defined and being set to 0.0 in labels with no predicted samples. Use `zero_division` parameter to control this behavior.\n",
      "  _warn_prf(average, modifier, f\"{metric.capitalize()} is\", len(result))\n",
      "c:\\Users\\robert\\Documents\\GitHub\\python_code_portfolio\\.conda\\Lib\\site-packages\\sklearn\\metrics\\_classification.py:1509: UndefinedMetricWarning: Precision is ill-defined and being set to 0.0 in labels with no predicted samples. Use `zero_division` parameter to control this behavior.\n",
      "  _warn_prf(average, modifier, f\"{metric.capitalize()} is\", len(result))\n"
     ]
    }
   ],
   "source": [
    "np.random.seed(0)\n",
    "date = pd.date_range(start='1/1/2020', periods=1000)\n",
    "id = np.random.randint(1000,9999, size=1000)\n",
    "transaction_amount= np.random.uniform(1, 1000, size=1000)\n",
    "#X = pd.DataFrame(np.random.rand(1000, 3), columns=['Date', 'ID','Transaction_Amount'])\n",
    "df = pd.DataFrame({'date': date, 'id': id, 'transaction_amount': transaction_amount, 'label': y})\n",
    "\n",
    "#df = pd.concat([X, y], axis=1)\n",
    "df['date'] = df['date'].apply(lambda x: x.timestamp())\n",
    "X = df.drop('label', axis =1)\n",
    "y = df['label']\n",
    "\n",
    "X_train, X_test, y_train, y_test = train_test_split(X, y, test_size=0.2, random_state=42)\n",
    "\n",
    "model = LogisticRegression()\n",
    "model.fit(X_train, y_train)\n",
    "\n",
    "predictions = model.predict(X_test)\n",
    "\n",
    "print(classification_report(y_test, predictions))"
   ]
  },
  {
   "cell_type": "code",
   "execution_count": 17,
   "metadata": {},
   "outputs": [
    {
     "data": {
      "text/html": [
       "<div>\n",
       "<style scoped>\n",
       "    .dataframe tbody tr th:only-of-type {\n",
       "        vertical-align: middle;\n",
       "    }\n",
       "\n",
       "    .dataframe tbody tr th {\n",
       "        vertical-align: top;\n",
       "    }\n",
       "\n",
       "    .dataframe thead th {\n",
       "        text-align: right;\n",
       "    }\n",
       "</style>\n",
       "<table border=\"1\" class=\"dataframe\">\n",
       "  <thead>\n",
       "    <tr style=\"text-align: right;\">\n",
       "      <th></th>\n",
       "      <th>date</th>\n",
       "      <th>id</th>\n",
       "      <th>transaction_amount</th>\n",
       "      <th>label</th>\n",
       "    </tr>\n",
       "  </thead>\n",
       "  <tbody>\n",
       "    <tr>\n",
       "      <th>0</th>\n",
       "      <td>1.577837e+09</td>\n",
       "      <td>3732</td>\n",
       "      <td>402.026521</td>\n",
       "      <td>1</td>\n",
       "    </tr>\n",
       "    <tr>\n",
       "      <th>1</th>\n",
       "      <td>1.577923e+09</td>\n",
       "      <td>4264</td>\n",
       "      <td>417.275065</td>\n",
       "      <td>0</td>\n",
       "    </tr>\n",
       "    <tr>\n",
       "      <th>2</th>\n",
       "      <td>1.578010e+09</td>\n",
       "      <td>5859</td>\n",
       "      <td>811.027777</td>\n",
       "      <td>0</td>\n",
       "    </tr>\n",
       "    <tr>\n",
       "      <th>3</th>\n",
       "      <td>1.578096e+09</td>\n",
       "      <td>8891</td>\n",
       "      <td>348.843751</td>\n",
       "      <td>1</td>\n",
       "    </tr>\n",
       "    <tr>\n",
       "      <th>4</th>\n",
       "      <td>1.578182e+09</td>\n",
       "      <td>5373</td>\n",
       "      <td>212.243341</td>\n",
       "      <td>1</td>\n",
       "    </tr>\n",
       "    <tr>\n",
       "      <th>5</th>\n",
       "      <td>1.578269e+09</td>\n",
       "      <td>6874</td>\n",
       "      <td>60.323805</td>\n",
       "      <td>1</td>\n",
       "    </tr>\n",
       "    <tr>\n",
       "      <th>6</th>\n",
       "      <td>1.578355e+09</td>\n",
       "      <td>7744</td>\n",
       "      <td>876.150821</td>\n",
       "      <td>0</td>\n",
       "    </tr>\n",
       "    <tr>\n",
       "      <th>7</th>\n",
       "      <td>1.578442e+09</td>\n",
       "      <td>4468</td>\n",
       "      <td>918.627905</td>\n",
       "      <td>0</td>\n",
       "    </tr>\n",
       "    <tr>\n",
       "      <th>8</th>\n",
       "      <td>1.578528e+09</td>\n",
       "      <td>1705</td>\n",
       "      <td>121.000062</td>\n",
       "      <td>0</td>\n",
       "    </tr>\n",
       "    <tr>\n",
       "      <th>9</th>\n",
       "      <td>1.578614e+09</td>\n",
       "      <td>3599</td>\n",
       "      <td>335.139268</td>\n",
       "      <td>1</td>\n",
       "    </tr>\n",
       "  </tbody>\n",
       "</table>\n",
       "</div>"
      ],
      "text/plain": [
       "           date    id  transaction_amount  label\n",
       "0  1.577837e+09  3732          402.026521      1\n",
       "1  1.577923e+09  4264          417.275065      0\n",
       "2  1.578010e+09  5859          811.027777      0\n",
       "3  1.578096e+09  8891          348.843751      1\n",
       "4  1.578182e+09  5373          212.243341      1\n",
       "5  1.578269e+09  6874           60.323805      1\n",
       "6  1.578355e+09  7744          876.150821      0\n",
       "7  1.578442e+09  4468          918.627905      0\n",
       "8  1.578528e+09  1705          121.000062      0\n",
       "9  1.578614e+09  3599          335.139268      1"
      ]
     },
     "execution_count": 17,
     "metadata": {},
     "output_type": "execute_result"
    }
   ],
   "source": [
    "df.head(10)"
   ]
  },
  {
   "cell_type": "code",
   "execution_count": 27,
   "metadata": {},
   "outputs": [
    {
     "data": {
      "image/png": "[encoded data removed]",
      "text/plain": [
       "<Figure size 1000x600 with 1 Axes>"
      ]
     },
     "metadata": {},
     "output_type": "display_data"
    }
   ],
   "source": [
    "plt.figure(figsize=(10,6))\n",
    "plt.scatter(range(len(y_test)), y_test, color='b', label='Actual')\n",
    "plt.scatter(range(len(predictions)), predictions, color='r', alpha=0.5)\n",
    "plt.legend()\n",
    "plt.show()"
   ]
  }
 ],
 "metadata": {
  "kernelspec": {
   "display_name": "Python 3",
   "language": "python",
   "name": "python3"
  },
  "language_info": {
   "codemirror_mode": {
    "name": "ipython",
    "version": 3
   },
   "file_extension": ".py",
   "mimetype": "text/x-python",
   "name": "python",
   "nbconvert_exporter": "python",
   "pygments_lexer": "ipython3",
   "version": "3.12.3"
  }
 },
 "nbformat": 4,
 "nbformat_minor": 2
}
