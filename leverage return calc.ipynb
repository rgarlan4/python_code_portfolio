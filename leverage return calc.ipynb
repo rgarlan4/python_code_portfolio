{
 "cells": [
  {
   "cell_type": "code",
   "execution_count": 6,
   "metadata": {},
   "outputs": [
    {
     "name": "stdout",
     "output_type": "stream",
     "text": [
      "Yield: 0.035999999999999976\n"
     ]
    }
   ],
   "source": [
    "#Leveraged Yield of Return for your Property \n",
    "import pandas as pd\n",
    "def leveraged_yield_of_property(r,n,c):\n",
    "   l = (r - (1-n)*c)/n \n",
    "   return (l)\n",
    "\n",
    "l = leveraged_yield_of_property(0.06,0.25,0.068)\n",
    "print('Yield:',l)\n"
   ]
  },
  {
   "cell_type": "code",
   "execution_count": 16,
   "metadata": {},
   "outputs": [
    {
     "name": "stdout",
     "output_type": "stream",
     "text": [
      "Return on leverage: 156667%\n"
     ]
    }
   ],
   "source": [
    "#Return on Leverage Formula\n",
    "def return_on_leverage(cv,ibl):\n",
    "   rol = (cv- ibl)/ibl*100\n",
    "   return (rol)\n",
    "\n",
    "rol = return_on_leverage(250000,15000)\n",
    "formatted_rol = '{:.0%}'.format(rol)\n",
    "print('Return on leverage:',formatted_rol)"
   ]
  },
  {
   "cell_type": "code",
   "execution_count": 1,
   "metadata": {},
   "outputs": [
    {
     "name": "stdout",
     "output_type": "stream",
     "text": [
      "Return on leverage: 1%\n"
     ]
    }
   ],
   "source": [
    "#Return on Leverage Formula\n",
    "def leverage(ar,dt,assets,cb):\n",
    "   leverage_return = ar + (dt/assets) * (ar - cb)\n",
    "   return (leverage_return)\n",
    "\n",
    "leverage_return = leverage(.04,230000,250000,.07)\n",
    "formatted_lev_return = '{:.0%}'.format(leverage_return)\n",
    "print('Return on leverage:',formatted_lev_return)"
   ]
  }
 ],
 "metadata": {
  "kernelspec": {
   "display_name": "Python 3",
   "language": "python",
   "name": "python3"
  },
  "language_info": {
   "codemirror_mode": {
    "name": "ipython",
    "version": 3
   },
   "file_extension": ".py",
   "mimetype": "text/x-python",
   "name": "python",
   "nbconvert_exporter": "python",
   "pygments_lexer": "ipython3",
   "version": "3.12.3"
  }
 },
 "nbformat": 4,
 "nbformat_minor": 2
}
